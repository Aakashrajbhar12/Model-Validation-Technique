{
 "cells": [
  {
   "cell_type": "markdown",
   "id": "87381d78",
   "metadata": {},
   "source": [
    "### Model Validation Technique\n",
    "There are 3 Technique\n",
    "\n",
    "1.Train & Test Split\n",
    "\n",
    "2.K-fold Cross Validation\n",
    "\n",
    "3.Leave One Out Cross Validation"
   ]
  },
  {
   "cell_type": "markdown",
   "id": "a227fea7",
   "metadata": {},
   "source": [
    "#### Using a Logistic Model "
   ]
  },
  {
   "cell_type": "markdown",
   "id": "b987c286",
   "metadata": {},
   "source": [
    "#### 1.Evaluate using a train and a test set"
   ]
  },
  {
   "cell_type": "code",
   "execution_count": 1,
   "id": "cedfae7e",
   "metadata": {},
   "outputs": [
    {
     "data": {
      "text/plain": [
       "71.27071823204419"
      ]
     },
     "execution_count": 1,
     "metadata": {},
     "output_type": "execute_result"
    }
   ],
   "source": [
    "# Evaluate using a train and a test set\n",
    "\n",
    "#Importing the Required Libraries\n",
    "import pandas as pd\n",
    "from sklearn.model_selection import train_test_split\n",
    "from sklearn.linear_model import LogisticRegression\n",
    "\n",
    "import warnings\n",
    "warnings.filterwarnings(\"ignore\")  #--to ignore warnings\n",
    "\n",
    "#Load the data set\n",
    "claimants = pd.read_csv(\"C:/Users/Akaash/Downloads/claimants.csv\")\n",
    "\n",
    "#Dropping the case number columns as it is not required\n",
    "claimants.drop([\"CASENUM\"],inplace=True,axis = 1)\n",
    "\n",
    "# Removing NA values in data set\n",
    "claimants = claimants.dropna()\n",
    "\n",
    "# Dividing our data into input and output variables \n",
    "X = claimants.iloc[:,1:]\n",
    "Y = claimants.iloc[:,0]\n",
    "\n",
    "#Splitting the Dataset into Train & Test \n",
    "test_size = 0.33\n",
    "seed = 7\n",
    "X_train, X_test, Y_train, Y_test = train_test_split(X, Y, test_size=test_size,random_state=seed)\n",
    "\n",
    "#Training the Model\n",
    "model = LogisticRegression()\n",
    "model.fit(X_train, Y_train)\n",
    "\n",
    "#Predicting & Getting the Model Score\n",
    "result = model.score(X_test, Y_test)\n",
    "\n",
    "#Calculating the Accuracy of the Model\n",
    "result*100.0"
   ]
  },
  {
   "cell_type": "markdown",
   "id": "d2fedf89",
   "metadata": {},
   "source": [
    "Inference: With Train & Test Split The Accuarcy has come 71.27%"
   ]
  },
  {
   "cell_type": "markdown",
   "id": "79f98703",
   "metadata": {},
   "source": [
    "#### 2.Evaluate using K-Fold Cross Validation"
   ]
  },
  {
   "cell_type": "code",
   "execution_count": 2,
   "id": "0f570be6",
   "metadata": {},
   "outputs": [],
   "source": [
    "# Evaluate using Cross Validation\n",
    "\n",
    "#Importing the Required Libraries\n",
    "import pandas as pd\n",
    "from sklearn.model_selection import KFold\n",
    "from sklearn.model_selection import cross_val_score\n",
    "from sklearn.linear_model import LogisticRegression\n",
    "\n",
    "#Load the data set\n",
    "claimants = pd.read_csv(\"C:/Users/Akaash/Downloads/claimants.csv\")\n",
    "\n",
    "#Dropping the case number columns as it is not required\n",
    "claimants.drop([\"CASENUM\"],inplace=True,axis = 1)\n",
    "\n",
    "# Removing NA values in data set\n",
    "claimants = claimants.dropna()\n",
    "\n",
    "# Dividing our data into input and output variables \n",
    "X = claimants.iloc[:,1:]\n",
    "Y = claimants.iloc[:,0]\n",
    "\n",
    "# Creating K-Fold Instance\n",
    "num_folds = 10\n",
    "seed = 7\n",
    "kfold = KFold(n_splits=num_folds, random_state=seed,shuffle=True)\n",
    "\n",
    "#Training the Model \n",
    "model = LogisticRegression(max_iter=400)\n",
    "\n",
    "#Predicting & Getting the Model Score with kfold\n",
    "results = cross_val_score(model, X, Y, cv=kfold)\n"
   ]
  },
  {
   "cell_type": "code",
   "execution_count": 3,
   "id": "7b4ed906",
   "metadata": {},
   "outputs": [
    {
     "data": {
      "text/plain": [
       "array([0.73636364, 0.70909091, 0.62727273, 0.7       , 0.70909091,\n",
       "       0.69090909, 0.66972477, 0.70642202, 0.72477064, 0.73394495])"
      ]
     },
     "execution_count": 3,
     "metadata": {},
     "output_type": "execute_result"
    }
   ],
   "source": [
    "# Accuracy for Each K-Fold\n",
    "results"
   ]
  },
  {
   "cell_type": "code",
   "execution_count": 4,
   "id": "48a1c4fb",
   "metadata": {},
   "outputs": [
    {
     "data": {
      "text/plain": [
       "70.07589658048373"
      ]
     },
     "execution_count": 4,
     "metadata": {},
     "output_type": "execute_result"
    }
   ],
   "source": [
    "#Average of All k-fold Accuracy to get Final model Accuary\n",
    "results.mean()*100.0"
   ]
  },
  {
   "cell_type": "markdown",
   "id": "59a39f70",
   "metadata": {},
   "source": [
    "Inference: The K-fold gave the final Accuracy of 70.07%"
   ]
  },
  {
   "cell_type": "markdown",
   "id": "db6f23a3",
   "metadata": {},
   "source": [
    "#### 3.Evaluate using Leave One Out Cross Validation"
   ]
  },
  {
   "cell_type": "code",
   "execution_count": 5,
   "id": "888ccfd9",
   "metadata": {},
   "outputs": [],
   "source": [
    "# Evaluate using Leave One Out Cross Validation\n",
    "\n",
    "#Importing the Required Libraries\n",
    "import pandas as pd\n",
    "from sklearn.model_selection import LeaveOneOut\n",
    "from sklearn.model_selection import cross_val_score\n",
    "from sklearn.linear_model import LogisticRegression\n",
    "\n",
    "#Load the data set\n",
    "claimants = pd.read_csv(\"C:/Users/Akaash/Downloads/claimants.csv\")\n",
    "\n",
    "#Dropping the case number columns as it is not required\n",
    "claimants.drop([\"CASENUM\"],inplace=True,axis = 1)\n",
    "\n",
    "# Removing NA values in data set\n",
    "claimants = claimants.dropna()\n",
    "\n",
    "# Dividing our data into input and output variables \n",
    "X = claimants.iloc[:,1:]\n",
    "Y = claimants.iloc[:,0]\n",
    "\n",
    "# Creating K-Fold Instance\n",
    "loocv = LeaveOneOut()\n",
    "\n",
    "#Training the Model\n",
    "model = LogisticRegression(max_iter=300)\n",
    "\n",
    "#Predicting & Getting the Model Score with Leave One Out Cross Validation\n",
    "results = cross_val_score(model, X, Y, cv=loocv)"
   ]
  },
  {
   "cell_type": "code",
   "execution_count": 6,
   "id": "de041b9b",
   "metadata": {},
   "outputs": [
    {
     "data": {
      "text/plain": [
       "70.25547445255475"
      ]
     },
     "execution_count": 6,
     "metadata": {},
     "output_type": "execute_result"
    }
   ],
   "source": [
    "#Average of All LooCV Accuracy to get Final model Accuary\n",
    "results.mean()*100.0"
   ]
  },
  {
   "cell_type": "markdown",
   "id": "eb04dc8b",
   "metadata": {},
   "source": [
    "Inference: With Leave One Out Cross Validation The Accuarcy has come 70.25%"
   ]
  },
  {
   "cell_type": "code",
   "execution_count": null,
   "id": "4a45a54f",
   "metadata": {},
   "outputs": [],
   "source": []
  }
 ],
 "metadata": {
  "kernelspec": {
   "display_name": "Python 3",
   "language": "python",
   "name": "python3"
  },
  "language_info": {
   "codemirror_mode": {
    "name": "ipython",
    "version": 3
   },
   "file_extension": ".py",
   "mimetype": "text/x-python",
   "name": "python",
   "nbconvert_exporter": "python",
   "pygments_lexer": "ipython3",
   "version": "3.8.8"
  }
 },
 "nbformat": 4,
 "nbformat_minor": 5
}
