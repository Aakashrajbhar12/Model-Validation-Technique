{
 "cells": [
  {
   "cell_type": "markdown",
   "id": "97e28e1e",
   "metadata": {},
   "source": [
    "### Model Validation Technique\n",
    "There are 3 Technique\n",
    "\n",
    "1.Train & Test Split\n",
    "\n",
    "2.K-fold Cross Validation\n",
    "\n",
    "3.Leave One Out Cross Validation"
   ]
  },
  {
   "cell_type": "markdown",
   "id": "645c5ea3",
   "metadata": {},
   "source": [
    "#### Using a Logistic Model "
   ]
  },
  {
   "cell_type": "markdown",
   "id": "65435a25",
   "metadata": {},
   "source": [
    "#### 1.Evaluate using a train and a test set"
   ]
  },
  {
   "cell_type": "code",
   "execution_count": 1,
   "id": "8899f116",
   "metadata": {},
   "outputs": [
    {
     "data": {
      "text/plain": [
       "95.2127659574468"
      ]
     },
     "execution_count": 1,
     "metadata": {},
     "output_type": "execute_result"
    }
   ],
   "source": [
    "# Evaluate using a train and a test set\n",
    "\n",
    "#Importing the Required Libraries\n",
    "import pandas as pd\n",
    "from sklearn.model_selection import train_test_split\n",
    "from sklearn.linear_model import LogisticRegression\n",
    "from sklearn import preprocessing\n",
    "\n",
    "import warnings\n",
    "warnings.filterwarnings(\"ignore\")  #--to ignore warnings\n",
    "\n",
    "#Load the data set\n",
    "cancer = pd.read_csv(\"C:/Users/Akaash/Downloads/cancer.csv\")\n",
    "\n",
    "#Complete Cancer dataset - applying lable encoder to species column - (Y Variable is Categorial)\n",
    "label_encoder = preprocessing.LabelEncoder()\n",
    "cancer['diagnosis'] = label_encoder.fit_transform(cancer['diagnosis']) \n",
    "\n",
    "# Dividing our data into input and output variables \n",
    "X = cancer.iloc[:,1:]\n",
    "Y = cancer.iloc[:,0]\n",
    "\n",
    "#Splitting the Dataset into Train & Test \n",
    "test_size = 0.33\n",
    "seed = 7\n",
    "X_train, X_test, Y_train, Y_test = train_test_split(X, Y, test_size=test_size,random_state=seed)\n",
    "\n",
    "#Training the Model\n",
    "model = LogisticRegression()\n",
    "model.fit(X_train, Y_train)\n",
    "\n",
    "#Predicting & Getting the Model Score\n",
    "result = model.score(X_test, Y_test)\n",
    "\n",
    "#Calculating the Accuracy of the Model\n",
    "result*100.0"
   ]
  },
  {
   "cell_type": "markdown",
   "id": "2a65f480",
   "metadata": {},
   "source": [
    "Inference: With Train & Test Split The Accuarcy has come 95.21%"
   ]
  },
  {
   "cell_type": "markdown",
   "id": "f4a120d8",
   "metadata": {},
   "source": [
    "#### 2.Evaluate using K-Fold Cross Validation"
   ]
  },
  {
   "cell_type": "code",
   "execution_count": 2,
   "id": "6ffb0a9e",
   "metadata": {},
   "outputs": [],
   "source": [
    "# Evaluate using Cross Validation\n",
    "\n",
    "#Importing the Required Libraries\n",
    "import pandas as pd\n",
    "from sklearn.model_selection import KFold\n",
    "from sklearn.model_selection import cross_val_score\n",
    "from sklearn.linear_model import LogisticRegression\n",
    "from sklearn import preprocessing\n",
    "\n",
    "#Load the data set\n",
    "cancer = pd.read_csv(\"C:/Users/Akaash/Downloads/cancer.csv\")\n",
    "\n",
    "#Complete Cancer dataset - applying lable encoder to species column - (Y Variable is Categorial)\n",
    "label_encoder = preprocessing.LabelEncoder()\n",
    "cancer['diagnosis'] = label_encoder.fit_transform(cancer['diagnosis']) \n",
    "\n",
    "# Dividing our data into input and output variables \n",
    "X = cancer.iloc[:,1:]\n",
    "Y = cancer.iloc[:,0]\n",
    "\n",
    "# Creating K-Fold Instance\n",
    "num_folds = 10\n",
    "seed = 7\n",
    "kfold = KFold(n_splits=num_folds, random_state=seed,shuffle=True)\n",
    "\n",
    "#Training the Model \n",
    "model = LogisticRegression(max_iter=400)\n",
    "\n",
    "#Predicting & Getting the Model Score with kfold\n",
    "results = cross_val_score(model, X, Y, cv=kfold)\n"
   ]
  },
  {
   "cell_type": "code",
   "execution_count": 3,
   "id": "fa30192f",
   "metadata": {},
   "outputs": [
    {
     "data": {
      "text/plain": [
       "array([0.9122807 , 0.98245614, 0.96491228, 0.94736842, 0.94736842,\n",
       "       0.89473684, 0.96491228, 0.98245614, 0.92982456, 0.94642857])"
      ]
     },
     "execution_count": 3,
     "metadata": {},
     "output_type": "execute_result"
    }
   ],
   "source": [
    "# Accuracy for Each K-Fold\n",
    "results"
   ]
  },
  {
   "cell_type": "code",
   "execution_count": 4,
   "id": "6003f718",
   "metadata": {},
   "outputs": [
    {
     "data": {
      "text/plain": [
       "94.72744360902254"
      ]
     },
     "execution_count": 4,
     "metadata": {},
     "output_type": "execute_result"
    }
   ],
   "source": [
    "#Average of All k-fold Accuracy to get Final model Accuary\n",
    "results.mean()*100.0"
   ]
  },
  {
   "cell_type": "markdown",
   "id": "46e25cdb",
   "metadata": {},
   "source": [
    "Inference: The K-fold gave the final Accuracy of 94.72%"
   ]
  },
  {
   "cell_type": "markdown",
   "id": "acb87192",
   "metadata": {},
   "source": [
    "#### 3.Evaluate using Leave One Out Cross Validation"
   ]
  },
  {
   "cell_type": "code",
   "execution_count": 5,
   "id": "bb943a4f",
   "metadata": {},
   "outputs": [],
   "source": [
    "# Evaluate using Leave One Out Cross Validation\n",
    "\n",
    "#Importing the Required Libraries\n",
    "import pandas as pd\n",
    "from sklearn.model_selection import LeaveOneOut\n",
    "from sklearn.model_selection import cross_val_score\n",
    "from sklearn.linear_model import LogisticRegression\n",
    "from sklearn import preprocessing\n",
    "\n",
    "#Load the data set\n",
    "cancer = pd.read_csv(\"C:/Users/Akaash/Downloads/cancer.csv\")\n",
    "\n",
    "#Complete Cancer dataset - applying lable encoder to species column - (Y Variable is Categorial)\n",
    "label_encoder = preprocessing.LabelEncoder()\n",
    "cancer['diagnosis'] = label_encoder.fit_transform(cancer['diagnosis']) \n",
    "\n",
    "# Dividing our data into input and output variables \n",
    "X = cancer.iloc[:,1:]\n",
    "Y = cancer.iloc[:,0]\n",
    "\n",
    "# Creating K-Fold Instance\n",
    "loocv = LeaveOneOut()\n",
    "\n",
    "#Training the Model\n",
    "model = LogisticRegression(max_iter=300)\n",
    "\n",
    "#Predicting & Getting the Model Score with Leave One Out Cross Validation\n",
    "results = cross_val_score(model, X, Y, cv=loocv)"
   ]
  },
  {
   "cell_type": "code",
   "execution_count": 6,
   "id": "ed04fb30",
   "metadata": {},
   "outputs": [
    {
     "data": {
      "text/plain": [
       "94.90333919156416"
      ]
     },
     "execution_count": 6,
     "metadata": {},
     "output_type": "execute_result"
    }
   ],
   "source": [
    "#Average of All LooCV Accuracy to get Final model Accuary\n",
    "results.mean()*100.0"
   ]
  },
  {
   "cell_type": "markdown",
   "id": "68ab73a5",
   "metadata": {},
   "source": [
    "Inference: With Leave One Out Cross Validation The Accuarcy has come 94.90%"
   ]
  },
  {
   "cell_type": "code",
   "execution_count": null,
   "id": "d6832b94",
   "metadata": {},
   "outputs": [],
   "source": []
  }
 ],
 "metadata": {
  "kernelspec": {
   "display_name": "Python 3",
   "language": "python",
   "name": "python3"
  },
  "language_info": {
   "codemirror_mode": {
    "name": "ipython",
    "version": 3
   },
   "file_extension": ".py",
   "mimetype": "text/x-python",
   "name": "python",
   "nbconvert_exporter": "python",
   "pygments_lexer": "ipython3",
   "version": "3.8.8"
  }
 },
 "nbformat": 4,
 "nbformat_minor": 5
}
