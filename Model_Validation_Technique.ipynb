{
 "cells": [
  {
   "cell_type": "markdown",
   "id": "b618a5a6",
   "metadata": {},
   "source": [
    "### Model Validation Technique\n",
    "There are 3 Technique\n",
    "\n",
    "1.Train & Test Split\n",
    "\n",
    "2.K-fold Cross Validation\n",
    "\n",
    "3.Leave One Out Cross Validation"
   ]
  },
  {
   "cell_type": "markdown",
   "id": "47fbbdf1",
   "metadata": {},
   "source": [
    "#### Using a Logistic Model "
   ]
  },
  {
   "cell_type": "markdown",
   "id": "269e6469",
   "metadata": {},
   "source": [
    "#### 1.Evaluate using a train and a test set"
   ]
  },
  {
   "cell_type": "code",
   "execution_count": 1,
   "id": "6583e462",
   "metadata": {},
   "outputs": [
    {
     "data": {
      "text/plain": [
       "78.74015748031496"
      ]
     },
     "execution_count": 1,
     "metadata": {},
     "output_type": "execute_result"
    }
   ],
   "source": [
    "# Evaluate using a train and a test set\n",
    "\n",
    "#Importing the Required Libraries\n",
    "from sklearn.model_selection import train_test_split\n",
    "from sklearn.linear_model import LogisticRegression\n",
    "\n",
    "import warnings\n",
    "warnings.filterwarnings(\"ignore\")  #--to ignore warnings\n",
    "\n",
    "#loading the Dataset\n",
    "names = ['preg', 'plas', 'pres', 'skin', 'test', 'mass', 'pedi', 'age', 'class']\n",
    "Dataset = read_csv('C:/Users/Akaash/Downloads/pima-indians-diabetes_data.csv', names=names)\n",
    "\n",
    "#Separating the X & Y Variables\n",
    "array = Dataset.values\n",
    "X = array[:,0:8]\n",
    "Y = array[:,8]\n",
    "\n",
    "#Splitting the Dataset into Train & Test \n",
    "test_size = 0.33\n",
    "seed = 7\n",
    "X_train, X_test, Y_train, Y_test = train_test_split(X, Y, test_size=test_size,random_state=seed)\n",
    "\n",
    "#Training the Model\n",
    "model = LogisticRegression()\n",
    "model.fit(X_train, Y_train)\n",
    "\n",
    "#Predicting & Getting the Model Score\n",
    "result = model.score(X_test, Y_test)\n",
    "\n",
    "#Calculating the Accuracy of the Model\n",
    "result*100.0"
   ]
  },
  {
   "cell_type": "markdown",
   "id": "21a7a4a6",
   "metadata": {},
   "source": [
    "Inference: With Train & Test Split The Accuarcy has come 78.74%"
   ]
  },
  {
   "cell_type": "markdown",
   "id": "cef8368f",
   "metadata": {},
   "source": [
    "#### 2.Evaluate using K-Fold Cross Validation"
   ]
  },
  {
   "cell_type": "code",
   "execution_count": 2,
   "id": "c5b3d37b",
   "metadata": {},
   "outputs": [],
   "source": [
    "# Evaluate using Cross Validation\n",
    "\n",
    "#Importing the Required Libraries\n",
    "from sklearn.model_selection import KFold\n",
    "from sklearn.model_selection import cross_val_score\n",
    "from sklearn.linear_model import LogisticRegression\n",
    "\n",
    "#loading the Dataset\n",
    "names = ['preg', 'plas', 'pres', 'skin', 'test', 'mass', 'pedi', 'age', 'class']\n",
    "Dataset = read_csv('C:/Users/Akaash/Downloads/pima-indians-diabetes_data.csv', names=names)\n",
    "\n",
    "#Separating the X & Y Variables\n",
    "array = Dataset.values\n",
    "X = array[:,0:8]\n",
    "Y = array[:,8]\n",
    "\n",
    "# Creating K-Fold Instance\n",
    "num_folds = 10\n",
    "seed = 7\n",
    "kfold = KFold(n_splits=num_folds, random_state=seed,shuffle=True)\n",
    "\n",
    "#Training the Model \n",
    "model = LogisticRegression(max_iter=400)\n",
    "\n",
    "#Predicting & Getting the Model Score with kfold\n",
    "results = cross_val_score(model, X, Y, cv=kfold)\n"
   ]
  },
  {
   "cell_type": "code",
   "execution_count": 3,
   "id": "2535fb39",
   "metadata": {},
   "outputs": [
    {
     "data": {
      "text/plain": [
       "array([0.83116883, 0.74025974, 0.74025974, 0.80519481, 0.79220779,\n",
       "       0.77922078, 0.66233766, 0.80519481, 0.82894737, 0.73684211])"
      ]
     },
     "execution_count": 3,
     "metadata": {},
     "output_type": "execute_result"
    }
   ],
   "source": [
    "# Accuracy for Each K-Fold\n",
    "results"
   ]
  },
  {
   "cell_type": "code",
   "execution_count": 4,
   "id": "6c404bc9",
   "metadata": {},
   "outputs": [
    {
     "data": {
      "text/plain": [
       "77.21633629528367"
      ]
     },
     "execution_count": 4,
     "metadata": {},
     "output_type": "execute_result"
    }
   ],
   "source": [
    "#Average of All k-fold Accuracy to get Final model Accuary\n",
    "results.mean()*100.0"
   ]
  },
  {
   "cell_type": "markdown",
   "id": "d529e6c6",
   "metadata": {},
   "source": [
    "Inference: The K-fold gave the final Accuracy of 77.21%"
   ]
  },
  {
   "cell_type": "markdown",
   "id": "219741ab",
   "metadata": {},
   "source": [
    "#### 3.Evaluate using Leave One Out Cross Validation"
   ]
  },
  {
   "cell_type": "code",
   "execution_count": 5,
   "id": "f490e1c1",
   "metadata": {},
   "outputs": [],
   "source": [
    "# Evaluate using Leave One Out Cross Validation\n",
    "\n",
    "#Importing the Required Libraries\n",
    "from pandas import read_csv\n",
    "from sklearn.model_selection import LeaveOneOut\n",
    "from sklearn.model_selection import cross_val_score\n",
    "from sklearn.linear_model import LogisticRegression\n",
    "\n",
    "#loading the Dataset\n",
    "names = ['preg', 'plas', 'pres', 'skin', 'test', 'mass', 'pedi', 'age', 'class']\n",
    "Dataset = read_csv('C:/Users/Akaash/Downloads/pima-indians-diabetes_data.csv', names=names)\n",
    "\n",
    "#Separating the X & Y Variables\n",
    "array = Dataset.values\n",
    "X = array[:,0:8]\n",
    "Y = array[:,8]\n",
    "\n",
    "# Creating K-Fold Instance\n",
    "loocv = LeaveOneOut()\n",
    "\n",
    "#Training the Model\n",
    "model = LogisticRegression(max_iter=300)\n",
    "\n",
    "#Predicting & Getting the Model Score with Leave One Out Cross Validation\n",
    "results = cross_val_score(model, X, Y, cv=loocv)"
   ]
  },
  {
   "cell_type": "code",
   "execution_count": 6,
   "id": "6483f4ee",
   "metadata": {},
   "outputs": [
    {
     "data": {
      "text/plain": [
       "77.60416666666666"
      ]
     },
     "execution_count": 6,
     "metadata": {},
     "output_type": "execute_result"
    }
   ],
   "source": [
    "#Average of All LooCV Accuracy to get Final model Accuary\n",
    "results.mean()*100.0"
   ]
  },
  {
   "cell_type": "markdown",
   "id": "59b7b727",
   "metadata": {},
   "source": [
    "Inference:With Leave One Out Cross Validation The Accuarcy has come 77.60%"
   ]
  },
  {
   "cell_type": "code",
   "execution_count": null,
   "id": "817aad39",
   "metadata": {},
   "outputs": [],
   "source": []
  }
 ],
 "metadata": {
  "kernelspec": {
   "display_name": "Python 3",
   "language": "python",
   "name": "python3"
  },
  "language_info": {
   "codemirror_mode": {
    "name": "ipython",
    "version": 3
   },
   "file_extension": ".py",
   "mimetype": "text/x-python",
   "name": "python",
   "nbconvert_exporter": "python",
   "pygments_lexer": "ipython3",
   "version": "3.8.8"
  }
 },
 "nbformat": 4,
 "nbformat_minor": 5
}
